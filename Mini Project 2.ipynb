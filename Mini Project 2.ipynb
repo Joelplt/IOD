{
 "cells": [
  {
   "cell_type": "code",
   "execution_count": 27,
   "id": "89c41e51",
   "metadata": {},
   "outputs": [],
   "source": [
    "import tweepy"
   ]
  },
  {
   "cell_type": "code",
   "execution_count": 28,
   "id": "6dbe5872",
   "metadata": {},
   "outputs": [],
   "source": [
    "auth = tweepy.OAuthHandler('zrWEaZogbmS8XQ9Bu2sAFq2Tp', 'yUaqvWvK1lMTNr5yQgx3EZhdUT93eQpMCsLEwxX5qvR5qNMqY8')\n",
    "auth.set_access_token('1451650917313363968-d94Q8vdcgQctGWH0zcbkIxtHK43Rru', 'YWHvFp9LrS723b17sWb3BW9HIHjnaW3cWS5X2AjoDbQGw')\n",
    "api = tweepy.API(auth)"
   ]
  },
  {
   "cell_type": "code",
   "execution_count": 29,
   "id": "99a1884c",
   "metadata": {},
   "outputs": [],
   "source": [
    "userID = \"elonmusk\""
   ]
  },
  {
   "cell_type": "code",
   "execution_count": 30,
   "id": "8e2033af",
   "metadata": {},
   "outputs": [],
   "source": [
    "tweets = api.user_timeline(screen_name=userID, \n",
    "                           count=200,\n",
    "                           include_rts = False, \n",
    "                           tweet_mode = 'extended'\n",
    "                           )"
   ]
  },
  {
   "cell_type": "markdown",
   "id": "00cf7c5c",
   "metadata": {},
   "source": [
    "for info in tweets[:5]:\n",
    "     print(\"ID: {}\".format(info.id))\n",
    "     print(info.created_at)\n",
    "     print(info.full_text)\n",
    "     print(\"\\n\")"
   ]
  },
  {
   "cell_type": "code",
   "execution_count": 31,
   "id": "bcf254e4",
   "metadata": {},
   "outputs": [],
   "source": [
    "all_tweets = []\n",
    "all_tweets.extend(tweets)\n",
    "oldest_id = tweets[-1].id\n",
    "while True:\n",
    "    tweets = api.user_timeline(screen_name=userID, \n",
    "                           count=200,\n",
    "                           include_rts = False,\n",
    "                           max_id = oldest_id - 1,\n",
    "                           tweet_mode = 'extended'\n",
    "                           )\n",
    "    if len(tweets) == 0:\n",
    "        break\n",
    "    oldest_id = tweets[-1].id\n",
    "    all_tweets.extend(tweets)\n",
    "    print('N of tweets downloaded till now {}'.format(len(all_tweets)))"
   ]
  },
  {
   "cell_type": "code",
   "execution_count": 32,
   "id": "fc3fd799",
   "metadata": {},
   "outputs": [
    {
     "data": {
      "text/html": [
       "<div>\n",
       "<style scoped>\n",
       "    .dataframe tbody tr th:only-of-type {\n",
       "        vertical-align: middle;\n",
       "    }\n",
       "\n",
       "    .dataframe tbody tr th {\n",
       "        vertical-align: top;\n",
       "    }\n",
       "\n",
       "    .dataframe thead th {\n",
       "        text-align: right;\n",
       "    }\n",
       "</style>\n",
       "<table border=\"1\" class=\"dataframe\">\n",
       "  <thead>\n",
       "    <tr style=\"text-align: right;\">\n",
       "      <th></th>\n",
       "      <th>id</th>\n",
       "      <th>created_at</th>\n",
       "      <th>favorite_count</th>\n",
       "      <th>retweet_count</th>\n",
       "      <th>text</th>\n",
       "    </tr>\n",
       "  </thead>\n",
       "  <tbody>\n",
       "    <tr>\n",
       "      <th>0</th>\n",
       "      <td>1454966640534343680</td>\n",
       "      <td>2021-11-01 00:20:53+00:00</td>\n",
       "      <td>4593</td>\n",
       "      <td>375</td>\n",
       "      <td>@Tesmanian_com Sanjay deserves a lot of credit...</td>\n",
       "    </tr>\n",
       "    <tr>\n",
       "      <th>1</th>\n",
       "      <td>1454951269504888838</td>\n",
       "      <td>2021-10-31 23:19:48+00:00</td>\n",
       "      <td>6169</td>\n",
       "      <td>248</td>\n",
       "      <td>@ashleevance 🤣</td>\n",
       "    </tr>\n",
       "    <tr>\n",
       "      <th>2</th>\n",
       "      <td>1454933533814927365</td>\n",
       "      <td>2021-10-31 22:09:20+00:00</td>\n",
       "      <td>1890</td>\n",
       "      <td>143</td>\n",
       "      <td>@garycruz @truth_tesla @zshahan3 @garyblack00 ...</td>\n",
       "    </tr>\n",
       "    <tr>\n",
       "      <th>3</th>\n",
       "      <td>1454930023966773249</td>\n",
       "      <td>2021-10-31 21:55:23+00:00</td>\n",
       "      <td>4208</td>\n",
       "      <td>623</td>\n",
       "      <td>@WFPChief @DrEliDavid What happened here? http...</td>\n",
       "    </tr>\n",
       "    <tr>\n",
       "      <th>4</th>\n",
       "      <td>1454929736799490048</td>\n",
       "      <td>2021-10-31 21:54:15+00:00</td>\n",
       "      <td>1574</td>\n",
       "      <td>183</td>\n",
       "      <td>@truth_tesla @zshahan3 @garyblack00 @WholeMars...</td>\n",
       "    </tr>\n",
       "    <tr>\n",
       "      <th>5</th>\n",
       "      <td>1454929058706432002</td>\n",
       "      <td>2021-10-31 21:51:33+00:00</td>\n",
       "      <td>1569</td>\n",
       "      <td>173</td>\n",
       "      <td>@truth_tesla @zshahan3 @garyblack00 @WholeMars...</td>\n",
       "    </tr>\n",
       "    <tr>\n",
       "      <th>6</th>\n",
       "      <td>1454926841467256835</td>\n",
       "      <td>2021-10-31 21:42:44+00:00</td>\n",
       "      <td>5159</td>\n",
       "      <td>896</td>\n",
       "      <td>@truth_tesla @zshahan3 @garyblack00 @WholeMars...</td>\n",
       "    </tr>\n",
       "    <tr>\n",
       "      <th>7</th>\n",
       "      <td>1454921466500222977</td>\n",
       "      <td>2021-10-31 21:21:23+00:00</td>\n",
       "      <td>10455</td>\n",
       "      <td>1199</td>\n",
       "      <td>@WFPChief @DrEliDavid Please publish your curr...</td>\n",
       "    </tr>\n",
       "    <tr>\n",
       "      <th>8</th>\n",
       "      <td>1454920409212669954</td>\n",
       "      <td>2021-10-31 21:17:11+00:00</td>\n",
       "      <td>15607</td>\n",
       "      <td>998</td>\n",
       "      <td>@SawyerMerritt @Tesla By definition, since I o...</td>\n",
       "    </tr>\n",
       "    <tr>\n",
       "      <th>9</th>\n",
       "      <td>1454894791444111360</td>\n",
       "      <td>2021-10-31 19:35:23+00:00</td>\n",
       "      <td>4304</td>\n",
       "      <td>324</td>\n",
       "      <td>@ZaidJilani @joerogan @FoxNews Austin should b...</td>\n",
       "    </tr>\n",
       "  </tbody>\n",
       "</table>\n",
       "</div>"
      ],
      "text/plain": [
       "                    id                created_at  favorite_count  \\\n",
       "0  1454966640534343680 2021-11-01 00:20:53+00:00            4593   \n",
       "1  1454951269504888838 2021-10-31 23:19:48+00:00            6169   \n",
       "2  1454933533814927365 2021-10-31 22:09:20+00:00            1890   \n",
       "3  1454930023966773249 2021-10-31 21:55:23+00:00            4208   \n",
       "4  1454929736799490048 2021-10-31 21:54:15+00:00            1574   \n",
       "5  1454929058706432002 2021-10-31 21:51:33+00:00            1569   \n",
       "6  1454926841467256835 2021-10-31 21:42:44+00:00            5159   \n",
       "7  1454921466500222977 2021-10-31 21:21:23+00:00           10455   \n",
       "8  1454920409212669954 2021-10-31 21:17:11+00:00           15607   \n",
       "9  1454894791444111360 2021-10-31 19:35:23+00:00            4304   \n",
       "\n",
       "   retweet_count                                               text  \n",
       "0            375  @Tesmanian_com Sanjay deserves a lot of credit...  \n",
       "1            248                                     @ashleevance 🤣  \n",
       "2            143  @garycruz @truth_tesla @zshahan3 @garyblack00 ...  \n",
       "3            623  @WFPChief @DrEliDavid What happened here? http...  \n",
       "4            183  @truth_tesla @zshahan3 @garyblack00 @WholeMars...  \n",
       "5            173  @truth_tesla @zshahan3 @garyblack00 @WholeMars...  \n",
       "6            896  @truth_tesla @zshahan3 @garyblack00 @WholeMars...  \n",
       "7           1199  @WFPChief @DrEliDavid Please publish your curr...  \n",
       "8            998  @SawyerMerritt @Tesla By definition, since I o...  \n",
       "9            324  @ZaidJilani @joerogan @FoxNews Austin should b...  "
      ]
     },
     "execution_count": 32,
     "metadata": {},
     "output_type": "execute_result"
    }
   ],
   "source": [
    "from pandas import DataFrame\n",
    "outtweets = [[tweet.id_str, \n",
    "              tweet.created_at, \n",
    "              tweet.favorite_count, \n",
    "              tweet.retweet_count, \n",
    "              tweet.full_text.encode(\"utf-8\").decode(\"utf-8\")] \n",
    "             for idx,tweet in enumerate(all_tweets)]\n",
    "df = DataFrame(outtweets,columns=[\"id\",\"created_at\",\"favorite_count\",\"retweet_count\", \"text\"])\n",
    "df.to_csv('%s_tweets.csv' % userID,index=False)\n",
    "df.head(10)"
   ]
  },
  {
   "cell_type": "code",
   "execution_count": 33,
   "id": "7c8d75b7",
   "metadata": {},
   "outputs": [],
   "source": [
    "search_words = \"Billy Joel\"\n",
    "new_search = search_words + \" -filter:retweets\""
   ]
  },
  {
   "cell_type": "code",
   "execution_count": 36,
   "id": "c591b156",
   "metadata": {},
   "outputs": [
    {
     "data": {
      "text/plain": [
       "<tweepy.cursor.ItemIterator at 0x18c4bd01340>"
      ]
     },
     "execution_count": 36,
     "metadata": {},
     "output_type": "execute_result"
    }
   ],
   "source": [
    "tweepy.Cursor(api.search_tweets,\n",
    "              q=search_words,\n",
    "              lang=\"en\").items(5)"
   ]
  },
  {
   "cell_type": "code",
   "execution_count": 45,
   "id": "97bc1f70",
   "metadata": {},
   "outputs": [
    {
     "name": "stdout",
     "output_type": "stream",
     "text": [
      "@gaydelemeydele so we think miss piggy would be christine and kermit would be raoul. phantom would be played by som… https://t.co/p8ndk196rG\n",
      "@ScottDAmore I mentioned you in a very good way remind me of Kermit running the Muppet Show. You need a Scooter for… https://t.co/ehBnwSUz9Z\n",
      "The running gag in The Great Muppet capper where people keep mixing up Fozzie and Kermit is such a good bit.\n",
      "@arichmondScot @NicolaSturgeon Good idea but Kermit is already booked! When asked if a muppet was to be the host Ke… https://t.co/HWJ8qOb9mj\n",
      "Man if AEW let me sign talent for them can you imagine how good it would be?\n",
      "\n",
      "Estelle Getty v. Jon Moxley, Kermit t… https://t.co/Lu8EES2Qqc\n",
      "Muppets Haunted Mansion was really good! I really enjoy seeing Gonzo do some more crazy shit, and generally I enjoy… https://t.co/D1ngEKoItx\n",
      "@DonaldJTrumpJr Want a good laugh? Imagine dong jr and his Kermit the frog like muppet voice yelling \"I demand a retraction!\" Lolz\n"
     ]
    }
   ],
   "source": [
    "for tweet1 in api.search_tweets(q=\"muppet, kermit, good\", lang=\"en\"):\n",
    "    print(tweet1.text)"
   ]
  },
  {
   "cell_type": "code",
   "execution_count": null,
   "id": "26e33dce",
   "metadata": {},
   "outputs": [],
   "source": []
  },
  {
   "cell_type": "code",
   "execution_count": null,
   "id": "29a302f1",
   "metadata": {},
   "outputs": [],
   "source": []
  }
 ],
 "metadata": {
  "kernelspec": {
   "display_name": "Python 3",
   "language": "python",
   "name": "python3"
  },
  "language_info": {
   "codemirror_mode": {
    "name": "ipython",
    "version": 3
   },
   "file_extension": ".py",
   "mimetype": "text/x-python",
   "name": "python",
   "nbconvert_exporter": "python",
   "pygments_lexer": "ipython3",
   "version": "3.8.8"
  }
 },
 "nbformat": 4,
 "nbformat_minor": 5
}
